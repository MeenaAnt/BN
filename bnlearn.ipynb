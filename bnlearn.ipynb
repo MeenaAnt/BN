{
 "cells": [
  {
   "cell_type": "code",
   "execution_count": 5,
   "metadata": {},
   "outputs": [],
   "source": [
    "import bnlearn as bn\n"
   ]
  },
  {
   "cell_type": "code",
   "execution_count": 6,
   "metadata": {},
   "outputs": [
    {
     "name": "stdout",
     "output_type": "stream",
     "text": [
      "[bnlearn] >Import dataset..\n"
     ]
    }
   ],
   "source": [
    "df = bn.import_example('sprinkler')\n",
    "#print(tabulate(df.head(), tablefmt=\"grid\", headers=\"keys\"))"
   ]
  },
  {
   "cell_type": "code",
   "execution_count": 7,
   "metadata": {},
   "outputs": [
    {
     "name": "stdout",
     "output_type": "stream",
     "text": [
      "[bnlearn] >Computing best DAG using [hc]\n",
      "[bnlearn] >Set scoring type at [bic]\n",
      "[bnlearn] >Parameter learning> Computing parameters using [bayes]\n",
      "[bnlearn] >Conversion of adjmat to BayesianNetwork.\n",
      "[bnlearn] >CPD of Cloudy:\n",
      "+-----------+--------------------+--------------------+\n",
      "| Sprinkler | Sprinkler(0)       | Sprinkler(1)       |\n",
      "+-----------+--------------------+--------------------+\n",
      "| Cloudy(0) | 0.3988245172124265 | 0.6341161928306551 |\n",
      "+-----------+--------------------+--------------------+\n",
      "| Cloudy(1) | 0.6011754827875735 | 0.3658838071693449 |\n",
      "+-----------+--------------------+--------------------+\n",
      "[bnlearn] >CPD of Rain:\n",
      "+---------+--------------------+---------------------+\n",
      "| Cloudy  | Cloudy(0)          | Cloudy(1)           |\n",
      "+---------+--------------------+---------------------+\n",
      "| Rain(0) | 0.6518218623481782 | 0.33695652173913043 |\n",
      "+---------+--------------------+---------------------+\n",
      "| Rain(1) | 0.3481781376518219 | 0.6630434782608695  |\n",
      "+---------+--------------------+---------------------+\n",
      "[bnlearn] >CPD of Sprinkler:\n",
      "+--------------+--------+\n",
      "| Sprinkler(0) | 0.5955 |\n",
      "+--------------+--------+\n",
      "| Sprinkler(1) | 0.4045 |\n",
      "+--------------+--------+\n",
      "[bnlearn] >CPD of Wet_Grass:\n",
      "+--------------+--------------------+-----+---------------------+\n",
      "| Rain         | Rain(0)            | ... | Rain(1)             |\n",
      "+--------------+--------------------+-----+---------------------+\n",
      "| Sprinkler    | Sprinkler(0)       | ... | Sprinkler(1)        |\n",
      "+--------------+--------------------+-----+---------------------+\n",
      "| Wet_Grass(0) | 0.7553816046966731 | ... | 0.37910447761194027 |\n",
      "+--------------+--------------------+-----+---------------------+\n",
      "| Wet_Grass(1) | 0.2446183953033268 | ... | 0.6208955223880597  |\n",
      "+--------------+--------------------+-----+---------------------+\n"
     ]
    }
   ],
   "source": [
    "model = bn.structure_learning.fit(df)  #learn the structure\n",
    "cpd = bn.parameter_learning.fit(model, df) #learn the parameters conditional probability distributions (cpd)\n"
   ]
  },
  {
   "cell_type": "code",
   "execution_count": 8,
   "metadata": {},
   "outputs": [
    {
     "name": "stdout",
     "output_type": "stream",
     "text": [
      "[bnlearn] >Variable Elimination..\n"
     ]
    },
    {
     "data": {
      "application/vnd.jupyter.widget-view+json": {
       "model_id": "a07a5f1f24384fa68020d92e59dfb30f",
       "version_major": 2,
       "version_minor": 0
      },
      "text/plain": [
       "0it [00:00, ?it/s]"
      ]
     },
     "metadata": {},
     "output_type": "display_data"
    },
    {
     "data": {
      "application/vnd.jupyter.widget-view+json": {
       "model_id": "a8a9a517b06b4ac3aa1cb3f443c39670",
       "version_major": 2,
       "version_minor": 0
      },
      "text/plain": [
       "0it [00:00, ?it/s]"
      ]
     },
     "metadata": {},
     "output_type": "display_data"
    },
    {
     "name": "stdout",
     "output_type": "stream",
     "text": [
      "+----+-------------+----------+\n",
      "|    |   Wet_Grass |        p |\n",
      "+====+=============+==========+\n",
      "|  0 |           0 | 0.255882 |\n",
      "+----+-------------+----------+\n",
      "|  1 |           1 | 0.744118 |\n",
      "+----+-------------+----------+\n"
     ]
    }
   ],
   "source": [
    "q1 = bn.inference.fit(cpd, variables=['Wet_Grass'], evidence={'Rain':1, 'Sprinkler':0, 'Cloudy':1})\n"
   ]
  },
  {
   "cell_type": "code",
   "execution_count": null,
   "metadata": {},
   "outputs": [],
   "source": [
    "import dash\n",
    "import dash_core_components as dcc\n",
    "import dash_html_components as html \n",
    "\n",
    "\n",
    "def infer(r,s,c,w):\n",
    "    evidence = {}\n",
    "    variables = []\n",
    "    results = []\n",
    "    if ( r!= -1):\n",
    "        evidence['Rain'] = r\n",
    "    else:\n",
    "        variables.append('Rain')\n",
    "        \n",
    "    if ( s!= -1):\n",
    "        evidence['Sprinkler'] = s\n",
    "    else:\n",
    "        variables.append('Sprinkler')\n",
    "        \n",
    "    if ( c!= -1):\n",
    "        evidence['Cloudy'] = c\n",
    "    else:\n",
    "        variables.append('Cloudy')\n",
    "        \n",
    "    if ( w!= -1):\n",
    "        evidence['Wet grass'] = w\n",
    "    else:\n",
    "        variables.append('Wet grass')\n",
    "    \n",
    "    for i in variables.len():\n",
    "        results.append(bn.inference.fit(cpd, variables=variables[i], evidence=evidence)) \n",
    "\n",
    "    return results\n",
    "\n",
    "app = dash.Dash(__name__) \n",
    "app.layout = html.Div(children=[\n",
    "    html.H1('Bayesian Network - Inference'),\n",
    "    html.Label('Rain:'),\n",
    "    dcc.RadioItems(id = 'Rain_input',\n",
    "        options=[\n",
    "            {'label': 'Absent', 'value': '0'},\n",
    "            {'label': 'Present', 'value': '1'},\n",
    "            {'label': 'Not observed', 'value': '-1'}\n",
    "        ],\n",
    "        value='25'\n",
    "    ),\n",
    "     html.Label('Sprinkler:'),\n",
    "    dcc.RadioItems(id = 'Sprinkler_input',\n",
    "        options=[\n",
    "            {'label': 'Absent', 'value': '0'},\n",
    "            {'label': 'Present', 'value': '1'},\n",
    "            {'label': 'Not observed', 'value': '-1'}\n",
    "        ],\n",
    "        value='25'\n",
    "    ), html.Label('Cloudy:'),\n",
    "    dcc.RadioItems(id = 'Cloudy_input',\n",
    "        options=[\n",
    "            {'label': 'Absent', 'value': '0'},\n",
    "            {'label': 'Present', 'value': '1'},\n",
    "            {'label': 'Not observed', 'value': '-1'}\n",
    "        ],\n",
    "        value='25'\n",
    "    ), html.Label('Wet grass:'),\n",
    "    dcc.RadioItems(id = 'Wet grass_input',\n",
    "        options=[\n",
    "            {'label': 'Absent', 'value': '0'},\n",
    "            {'label': 'Present', 'value': '1'},\n",
    "            {'label': 'Not observed', 'value': '-1'}\n",
    "        ],\n",
    "        value='25'\n",
    "    ),\n",
    "    \n",
    "    #html.Label('Rain'),\n",
    "   # html.Label('Sprinkler'),\n",
    "    #html.Label('Cloudy'),\n",
    "    #html.Label('Wet grass'),\n",
    "    #dcc.Input(type='text')\n",
    "    \n",
    "    html.Br(),\n",
    "    html.Br(),\n",
    "    \n",
    "   # html.Div(children=[html.Div(id='Rain_result',html.Label('Rain:'))])), \n",
    "    html.Div(id='Rain_result'),\n",
    "    html.Div(id='Sprinkler_result'),\n",
    "    html.Div(id='Cloudy_result'),\n",
    "    html.Div(id='Wet grass_result')\n",
    "])\n",
    "\n",
    "@app.callback(\n",
    "  Output('Rain_result','Sprinkler_result','Cloudy_result','Wet grass_result', 'children'),\n",
    "    [Input('Rain_input', 'value'),\n",
    "    Input('Sprinkler_input', 'value'),\n",
    "  Input('Cloudy_input', 'value'),\n",
    "     Input('Wet grass_input', 'value')]\n",
    ")\n",
    "def update_result(r,s,c,w):\n",
    "    return infer(r,s,c,w)\n",
    "\n",
    "\n",
    "\n",
    "if __name__ == '__main__':\n",
    "    app.run_server(debug=False, host = '127.0.0.1', port=8051)"
   ]
  },
  {
   "cell_type": "code",
   "execution_count": null,
   "metadata": {},
   "outputs": [],
   "source": []
  },
  {
   "cell_type": "code",
   "execution_count": null,
   "metadata": {},
   "outputs": [],
   "source": []
  }
 ],
 "metadata": {
  "kernelspec": {
   "display_name": "Python 3 (ipykernel)",
   "language": "python",
   "name": "python3"
  },
  "language_info": {
   "codemirror_mode": {
    "name": "ipython",
    "version": 3
   },
   "file_extension": ".py",
   "mimetype": "text/x-python",
   "name": "python",
   "nbconvert_exporter": "python",
   "pygments_lexer": "ipython3",
   "version": "3.8.12"
  }
 },
 "nbformat": 4,
 "nbformat_minor": 2
}
